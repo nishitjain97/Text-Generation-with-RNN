{
  "nbformat": 4,
  "nbformat_minor": 0,
  "metadata": {
    "colab": {
      "provenance": [],
      "authorship_tag": "ABX9TyMEZlcf7oeYWS8BxtnlgW58"
    },
    "kernelspec": {
      "name": "python3",
      "display_name": "Python 3"
    },
    "language_info": {
      "name": "python"
    }
  },
  "cells": [
    {
      "cell_type": "markdown",
      "source": [
        "# Text Generation with RNN\n",
        "\n",
        "In this notebook, we will implement an RNN in Tensorflow for generating text at character-level.\n",
        "\n",
        "**Note:** This notebook has been created as part of the Encoder-Decoder Architecture course on Google Cloud Skills Boost platform."
      ],
      "metadata": {
        "id": "XJAeoMSfGEPD"
      }
    },
    {
      "cell_type": "markdown",
      "source": [
        "## Setup"
      ],
      "metadata": {
        "id": "lHAFtxyUGykS"
      }
    },
    {
      "cell_type": "markdown",
      "source": [
        "Here, we are setting up the libraries and reading the dataset."
      ],
      "metadata": {
        "id": "lrPPErfyKEX0"
      }
    },
    {
      "cell_type": "markdown",
      "source": [
        "### Libraries"
      ],
      "metadata": {
        "id": "R3_bpQc7G3fI"
      }
    },
    {
      "cell_type": "code",
      "execution_count": null,
      "metadata": {
        "id": "lCVxe5IoGA4O"
      },
      "outputs": [],
      "source": [
        "import os\n",
        "import time\n",
        "\n",
        "import numpy as np\n",
        "import tensorflow as tf"
      ]
    },
    {
      "cell_type": "markdown",
      "source": [
        "### Dataset"
      ],
      "metadata": {
        "id": "4rnGiuJiG-Va"
      }
    },
    {
      "cell_type": "code",
      "source": [
        "path_to_file = tf.keras.utils.get_file(\n",
        "    \"shakespeare.txt\",\n",
        "    \"https://storage.googleapis.com/download.tensorflow.org/data/shakespeare.txt\"\n",
        ")"
      ],
      "metadata": {
        "id": "rKYK0L2tG_vb",
        "outputId": "591b68be-76e0-417f-9cfc-c62498b045c6",
        "colab": {
          "base_uri": "https://localhost:8080/"
        }
      },
      "execution_count": null,
      "outputs": [
        {
          "output_type": "stream",
          "name": "stdout",
          "text": [
            "Downloading data from https://storage.googleapis.com/download.tensorflow.org/data/shakespeare.txt\n",
            "1115394/1115394 [==============================] - 0s 0us/step\n"
          ]
        }
      ]
    },
    {
      "cell_type": "code",
      "source": [
        "text = open(path_to_file, 'rb').read().decode(encoding='utf-8')\n",
        "print(f\"Length of text: {len(text)} characters.\")"
      ],
      "metadata": {
        "id": "rjjmvwxYHIxi",
        "outputId": "3f0fd3d7-21e1-475f-80f4-a27f19ce07b3",
        "colab": {
          "base_uri": "https://localhost:8080/"
        }
      },
      "execution_count": null,
      "outputs": [
        {
          "output_type": "stream",
          "name": "stdout",
          "text": [
            "Length of text: 1115394 characters.\n"
          ]
        }
      ]
    },
    {
      "cell_type": "code",
      "source": [
        "print(text[:100])"
      ],
      "metadata": {
        "id": "vXUGmjTjJnYk",
        "outputId": "44a5a165-7d50-4354-a81d-54a65eb7ec60",
        "colab": {
          "base_uri": "https://localhost:8080/"
        }
      },
      "execution_count": null,
      "outputs": [
        {
          "output_type": "stream",
          "name": "stdout",
          "text": [
            "First Citizen:\n",
            "Before we proceed any further, hear me speak.\n",
            "\n",
            "All:\n",
            "Speak, speak.\n",
            "\n",
            "First Citizen:\n",
            "You\n"
          ]
        }
      ]
    },
    {
      "cell_type": "code",
      "source": [
        "vocab = sorted(set(text))\n",
        "print(f\"{len(vocab)} unique characters.\")"
      ],
      "metadata": {
        "id": "rK9QutD-JpPY",
        "outputId": "3d570f9e-bead-4483-fec5-4c642e456483",
        "colab": {
          "base_uri": "https://localhost:8080/"
        }
      },
      "execution_count": null,
      "outputs": [
        {
          "output_type": "stream",
          "name": "stdout",
          "text": [
            "65 unique characters.\n"
          ]
        }
      ]
    },
    {
      "cell_type": "markdown",
      "source": [
        "## Preprocessing"
      ],
      "metadata": {
        "id": "KbPagZ1fJ6Qf"
      }
    },
    {
      "cell_type": "markdown",
      "source": [
        "In this section, we will process the text to get it in a format that can be used for training an RNN Encoder-Decoder."
      ],
      "metadata": {
        "id": "51v8L5MoJ9It"
      }
    },
    {
      "cell_type": "markdown",
      "source": [
        "### Forward Mapping\n",
        "Mapping characters to ids."
      ],
      "metadata": {
        "id": "i68VrlD3KRiO"
      }
    },
    {
      "cell_type": "code",
      "source": [
        "ids_from_chars = tf.keras.layers.StringLookup(\n",
        "    vocabulary=list(vocab), mask_token=None\n",
        ")"
      ],
      "metadata": {
        "id": "FZs1yQSKJ4cA"
      },
      "execution_count": null,
      "outputs": []
    },
    {
      "cell_type": "markdown",
      "source": [
        "### Reverse Mapping\n",
        "Mapping ids to characters."
      ],
      "metadata": {
        "id": "A2zL1iKqKW_I"
      }
    },
    {
      "cell_type": "code",
      "source": [
        "chars_from_ids = tf.keras.layers.StringLookup(\n",
        "    vocabulary=ids_from_chars.get_vocabulary(), invert=True, mask_token=None\n",
        ")"
      ],
      "metadata": {
        "id": "3t_AwxDYKNKg"
      },
      "execution_count": null,
      "outputs": []
    },
    {
      "cell_type": "markdown",
      "source": [
        "**Note:** We are using `ids_from_chars.get_vocabulary()` instead of passing the original vocabulary `vocab` for inverse mapping so that `[UNK]` token gets set too."
      ],
      "metadata": {
        "id": "SGf57jZAKjZb"
      }
    },
    {
      "cell_type": "markdown",
      "source": [
        "Writing a utility function to return as one string a list of ids."
      ],
      "metadata": {
        "id": "ETTi9b1yLD_J"
      }
    },
    {
      "cell_type": "code",
      "source": [
        "def text_from_ids(ids: list) -> list:\n",
        "    \"\"\"\n",
        "        Function to return as single strings a list of list of ids.\n",
        "\n",
        "        Arguments:\n",
        "            ids (list): List of list of ids.\n",
        "\n",
        "        Returns (list): Returns a list of strings reverse mapped from the ids.\n",
        "    \"\"\"\n",
        "    return tf.strings.reduce_join(chars_from_ids(ids), axis=-1)"
      ],
      "metadata": {
        "id": "BagVP6BVK1Nd"
      },
      "execution_count": null,
      "outputs": []
    },
    {
      "cell_type": "code",
      "source": [],
      "metadata": {
        "id": "z1e5NNGvLw1i"
      },
      "execution_count": null,
      "outputs": []
    }
  ]
}