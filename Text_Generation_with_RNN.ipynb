{
  "nbformat": 4,
  "nbformat_minor": 0,
  "metadata": {
    "colab": {
      "provenance": [],
      "authorship_tag": "ABX9TyMd6WVB/7grZjdk7MP6N0HJ"
    },
    "kernelspec": {
      "name": "python3",
      "display_name": "Python 3"
    },
    "language_info": {
      "name": "python"
    }
  },
  "cells": [
    {
      "cell_type": "markdown",
      "source": [
        "# Text Generation with RNN\n",
        "\n",
        "In this notebook, we will implement an RNN in Tensorflow for generating text at character-level.\n",
        "\n",
        "**Note:** This notebook has been created as part of the Encoder-Decoder Architecture course on Google Cloud Skills Boost platform."
      ],
      "metadata": {
        "id": "XJAeoMSfGEPD"
      }
    },
    {
      "cell_type": "code",
      "execution_count": null,
      "metadata": {
        "id": "lCVxe5IoGA4O"
      },
      "outputs": [],
      "source": []
    }
  ]
}